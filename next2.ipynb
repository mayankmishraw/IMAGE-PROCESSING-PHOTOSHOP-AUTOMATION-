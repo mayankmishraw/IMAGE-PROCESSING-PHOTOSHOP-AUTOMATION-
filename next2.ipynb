{
 "cells": [
  {
   "cell_type": "code",
   "execution_count": 25,
   "metadata": {},
   "outputs": [],
   "source": [
    "import pandas as pd\n",
    "import numpy as np\n",
    "import cv2\n",
    "from psd_tools import PSDImage\n",
    "import matplotlib.pyplot as plt\n",
    "from retinaface import RetinaFace\n",
    "from PIL import Image as im"
   ]
  },
  {
   "cell_type": "code",
   "execution_count": 26,
   "metadata": {},
   "outputs": [],
   "source": [
    "def info(faces,name,l,b,data):\n",
    "    t=\"\"\n",
    "    if l>b:\n",
    "        t+='H'\n",
    "    else:\n",
    "        t+='V'\n",
    "    lext=99999\n",
    "    rext=-99999\n",
    "    topm=99999\n",
    "    count=len(faces)\n",
    "    for face in faces:\n",
    "        x1,y1,x2,y2=faces[face][\"facial_area\"]\n",
    "        if x1<lext:\n",
    "            lext=x1\n",
    "        if x2>rext:\n",
    "            rext=x2\n",
    "        if y1<topm:\n",
    "            topm=y1\n",
    "    data.loc[len(data)] =[name,t,lext,l-rext,topm,count]\n",
    "    return data"
   ]
  },
  {
   "cell_type": "code",
   "execution_count": 27,
   "metadata": {},
   "outputs": [],
   "source": [
    "def imp(entry,layer,data):\n",
    "    img=layer.topil()\n",
    "    img.save(fr\"C:\\Users\\Designoo 09\\Desktop\\editoo\\pcs\\{entry.name}__{layer.name}.png\")\n",
    "    img=np.array(img)\n",
    "    #data=im.fromarray(img)\n",
    "    l=img.shape[1]\n",
    "    b=img.shape[0]\n",
    "    faces = RetinaFace.detect_faces(fr\"C:\\Users\\Designoo 09\\Desktop\\editoo\\pcs\\{entry.name}__{layer.name}.png\")\n",
    "    if type(faces)==tuple:\n",
    "        return\n",
    "    info(faces,layer.name,l,b,data)"
   ]
  },
  {
   "cell_type": "code",
   "execution_count": 28,
   "metadata": {},
   "outputs": [],
   "source": [
    "entries = os.scandir(r\"C:\\Users\\Designoo 09\\Desktop\\editoo\\pcs\")\n",
    "for entry in entries:\n",
    "    psd=PSDImage.open(fr\"C:\\Users\\Designoo 09\\Desktop\\editoo\\pcs\\{entry.name}\")\n",
    "    df=pd.DataFrame(columns=[\"NAME\",\"ORIENTATION\",\"LEFTROOM\",\"RIGHTROOM\",\"HEADROOM\",\"NO. OF FACES\"])\n",
    "    for layer in psd:\n",
    "        imp(entry,layer,df)\n",
    "        df.to_csv(fr\"C:\\Users\\Designoo 09\\Desktop\\editoo\\pcs\\{entry.name}__{layer.name}.csv\")"
   ]
  }
 ],
 "metadata": {
  "kernelspec": {
   "display_name": ".venv",
   "language": "python",
   "name": "python3"
  },
  "language_info": {
   "codemirror_mode": {
    "name": "ipython",
    "version": 3
   },
   "file_extension": ".py",
   "mimetype": "text/x-python",
   "name": "python",
   "nbconvert_exporter": "python",
   "pygments_lexer": "ipython3",
   "version": "3.9.0"
  },
  "orig_nbformat": 4,
  "vscode": {
   "interpreter": {
    "hash": "9ff8c039cde8d16c8fd5d5cb64d0fbfa4f9dd84e7e00f8008380a6e4a2d4622e"
   }
  }
 },
 "nbformat": 4,
 "nbformat_minor": 2
}
