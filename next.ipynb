{
 "cells": [
  {
   "cell_type": "code",
   "execution_count": 9,
   "metadata": {},
   "outputs": [],
   "source": [
    "import pandas as pd\n",
    "import numpy as np\n",
    "import cv2\n",
    "from psd_tools import PSDImage\n",
    "import matplotlib.pyplot as plt\n",
    "from retinaface import RetinaFace\n",
    "from PIL import Image as im"
   ]
  },
  {
   "cell_type": "code",
   "execution_count": 10,
   "metadata": {},
   "outputs": [],
   "source": [
    "import os"
   ]
  },
  {
   "cell_type": "code",
   "execution_count": 11,
   "metadata": {},
   "outputs": [
    {
     "data": {
      "text/plain": [
       "['.venv',\n",
       " 'datapcs',\n",
       " 'designoo.ipynb',\n",
       " 'editoo.ipynb',\n",
       " 'next.ipynb',\n",
       " 'next2.ipynb',\n",
       " 'pcs']"
      ]
     },
     "execution_count": 11,
     "metadata": {},
     "output_type": "execute_result"
    }
   ],
   "source": [
    "os.listdir()"
   ]
  },
  {
   "cell_type": "code",
   "execution_count": 12,
   "metadata": {},
   "outputs": [
    {
     "name": "stdout",
     "output_type": "stream",
     "text": [
      "(0).psd\n",
      "(01).psd\n",
      "(1).psd\n",
      "(10).psd\n",
      "(11).psd\n",
      "(12).psd\n",
      "(13).psd\n",
      "(14).psd\n",
      "(15).psd\n",
      "(2).psd\n",
      "(3).psd\n",
      "(4).psd\n",
      "(5).psd\n",
      "(6).psd\n",
      "(7).psd\n",
      "(8).psd\n",
      "(9).psd\n"
     ]
    }
   ],
   "source": [
    "entries = os.scandir(r\"C:\\Users\\Designoo 09\\Desktop\\editoo\\pcs\")\n",
    "for entry in entries:\n",
    "    print(entry.name)"
   ]
  },
  {
   "cell_type": "code",
   "execution_count": 13,
   "metadata": {},
   "outputs": [],
   "source": [
    "def info(faces,name,l,b,data):\n",
    "    t=\"\"\n",
    "    if l>b:\n",
    "        t+='H'\n",
    "    else:\n",
    "        t+='V'\n",
    "    lext=99999\n",
    "    rext=-99999\n",
    "    topm=99999\n",
    "    count=len(faces)\n",
    "    for face in faces:\n",
    "        x1,y1,x2,y2=faces[face][\"facial_area\"]\n",
    "        if x1<lext:\n",
    "            lext=x1\n",
    "        if x2>rext:\n",
    "            rext=x2\n",
    "        if y1<topm:\n",
    "            topm=y1\n",
    "    data.loc[len(data)] =[name,t,lext,l-rext,topm,count]\n",
    "    return data"
   ]
  },
  {
   "cell_type": "code",
   "execution_count": 14,
   "metadata": {},
   "outputs": [],
   "source": [
    "def imp(psd,data,name):\n",
    "    img=psd.topil()\n",
    "    img=np.array(img)\n",
    "    #data=im.fromarray(img)\n",
    "    l=img.shape[1]\n",
    "    b=img.shape[0]\n",
    "    faces = RetinaFace.detect_faces(img)\n",
    "    if type(faces)==tuple:\n",
    "        return\n",
    "    info(faces,name,l,b,data)\n"
   ]
  },
  {
   "cell_type": "code",
   "execution_count": 15,
   "metadata": {},
   "outputs": [
    {
     "name": "stdout",
     "output_type": "stream",
     "text": [
      "(0).psd\n",
      "(01).psd\n",
      "(1).psd\n",
      "(10).psd\n",
      "(11).psd\n",
      "(12).psd\n",
      "(13).psd\n",
      "(14).psd\n",
      "(15).psd\n",
      "(2).psd\n",
      "(3).psd\n",
      "(4).psd\n",
      "(5).psd\n",
      "(6).psd\n",
      "(7).psd\n",
      "(8).psd\n",
      "(9).psd\n"
     ]
    }
   ],
   "source": [
    "for i in os.scandir(r\"C:\\Users\\Designoo 09\\Desktop\\editoo\\pcs\"):\n",
    "    print(i.name)"
   ]
  },
  {
   "cell_type": "code",
   "execution_count": 16,
   "metadata": {},
   "outputs": [],
   "source": [
    "entries = os.scandir(r\"C:\\Users\\Designoo 09\\Desktop\\editoo\\pcs\")\n",
    "df=pd.DataFrame(columns=[\"NAME\",\"ORIENTATION\",\"LEFTROOM\",\"RIGHTROOM\",\"HEADROOM\",\"NO. OF FACES\"])\n",
    "for entry in entries:\n",
    "    psd=PSDImage.open(fr\"C:\\Users\\Designoo 09\\Desktop\\editoo\\pcs\\{entry.name}\")\n",
    "    name=f\"{entry.name}\"\n",
    "    imp(psd,df,name)"
   ]
  },
  {
   "cell_type": "code",
   "execution_count": 17,
   "metadata": {},
   "outputs": [
    {
     "data": {
      "text/html": [
       "<div>\n",
       "<style scoped>\n",
       "    .dataframe tbody tr th:only-of-type {\n",
       "        vertical-align: middle;\n",
       "    }\n",
       "\n",
       "    .dataframe tbody tr th {\n",
       "        vertical-align: top;\n",
       "    }\n",
       "\n",
       "    .dataframe thead th {\n",
       "        text-align: right;\n",
       "    }\n",
       "</style>\n",
       "<table border=\"1\" class=\"dataframe\">\n",
       "  <thead>\n",
       "    <tr style=\"text-align: right;\">\n",
       "      <th></th>\n",
       "      <th>NAME</th>\n",
       "      <th>ORIENTATION</th>\n",
       "      <th>LEFTROOM</th>\n",
       "      <th>RIGHTROOM</th>\n",
       "      <th>HEADROOM</th>\n",
       "      <th>NO. OF FACES</th>\n",
       "    </tr>\n",
       "  </thead>\n",
       "  <tbody>\n",
       "    <tr>\n",
       "      <th>0</th>\n",
       "      <td>(0).psd</td>\n",
       "      <td>H</td>\n",
       "      <td>2185</td>\n",
       "      <td>1709</td>\n",
       "      <td>142</td>\n",
       "      <td>2</td>\n",
       "    </tr>\n",
       "    <tr>\n",
       "      <th>1</th>\n",
       "      <td>(01).psd</td>\n",
       "      <td>H</td>\n",
       "      <td>2055</td>\n",
       "      <td>1540</td>\n",
       "      <td>760</td>\n",
       "      <td>2</td>\n",
       "    </tr>\n",
       "    <tr>\n",
       "      <th>2</th>\n",
       "      <td>(10).psd</td>\n",
       "      <td>H</td>\n",
       "      <td>171</td>\n",
       "      <td>2935</td>\n",
       "      <td>779</td>\n",
       "      <td>10</td>\n",
       "    </tr>\n",
       "    <tr>\n",
       "      <th>3</th>\n",
       "      <td>(11).psd</td>\n",
       "      <td>H</td>\n",
       "      <td>1108</td>\n",
       "      <td>970</td>\n",
       "      <td>534</td>\n",
       "      <td>7</td>\n",
       "    </tr>\n",
       "    <tr>\n",
       "      <th>4</th>\n",
       "      <td>(12).psd</td>\n",
       "      <td>H</td>\n",
       "      <td>238</td>\n",
       "      <td>1607</td>\n",
       "      <td>279</td>\n",
       "      <td>17</td>\n",
       "    </tr>\n",
       "    <tr>\n",
       "      <th>5</th>\n",
       "      <td>(13).psd</td>\n",
       "      <td>H</td>\n",
       "      <td>627</td>\n",
       "      <td>604</td>\n",
       "      <td>399</td>\n",
       "      <td>25</td>\n",
       "    </tr>\n",
       "    <tr>\n",
       "      <th>6</th>\n",
       "      <td>(14).psd</td>\n",
       "      <td>H</td>\n",
       "      <td>414</td>\n",
       "      <td>723</td>\n",
       "      <td>363</td>\n",
       "      <td>30</td>\n",
       "    </tr>\n",
       "    <tr>\n",
       "      <th>7</th>\n",
       "      <td>(15).psd</td>\n",
       "      <td>H</td>\n",
       "      <td>628</td>\n",
       "      <td>673</td>\n",
       "      <td>434</td>\n",
       "      <td>49</td>\n",
       "    </tr>\n",
       "    <tr>\n",
       "      <th>8</th>\n",
       "      <td>(2).psd</td>\n",
       "      <td>H</td>\n",
       "      <td>498</td>\n",
       "      <td>806</td>\n",
       "      <td>306</td>\n",
       "      <td>8</td>\n",
       "    </tr>\n",
       "    <tr>\n",
       "      <th>9</th>\n",
       "      <td>(3).psd</td>\n",
       "      <td>H</td>\n",
       "      <td>437</td>\n",
       "      <td>941</td>\n",
       "      <td>319</td>\n",
       "      <td>14</td>\n",
       "    </tr>\n",
       "    <tr>\n",
       "      <th>10</th>\n",
       "      <td>(4).psd</td>\n",
       "      <td>H</td>\n",
       "      <td>951</td>\n",
       "      <td>2532</td>\n",
       "      <td>321</td>\n",
       "      <td>6</td>\n",
       "    </tr>\n",
       "    <tr>\n",
       "      <th>11</th>\n",
       "      <td>(5).psd</td>\n",
       "      <td>H</td>\n",
       "      <td>759</td>\n",
       "      <td>412</td>\n",
       "      <td>268</td>\n",
       "      <td>21</td>\n",
       "    </tr>\n",
       "    <tr>\n",
       "      <th>12</th>\n",
       "      <td>(6).psd</td>\n",
       "      <td>H</td>\n",
       "      <td>1031</td>\n",
       "      <td>3378</td>\n",
       "      <td>280</td>\n",
       "      <td>10</td>\n",
       "    </tr>\n",
       "    <tr>\n",
       "      <th>13</th>\n",
       "      <td>(7).psd</td>\n",
       "      <td>H</td>\n",
       "      <td>878</td>\n",
       "      <td>903</td>\n",
       "      <td>335</td>\n",
       "      <td>6</td>\n",
       "    </tr>\n",
       "    <tr>\n",
       "      <th>14</th>\n",
       "      <td>(8).psd</td>\n",
       "      <td>H</td>\n",
       "      <td>885</td>\n",
       "      <td>589</td>\n",
       "      <td>268</td>\n",
       "      <td>10</td>\n",
       "    </tr>\n",
       "    <tr>\n",
       "      <th>15</th>\n",
       "      <td>(9).psd</td>\n",
       "      <td>H</td>\n",
       "      <td>1549</td>\n",
       "      <td>998</td>\n",
       "      <td>402</td>\n",
       "      <td>10</td>\n",
       "    </tr>\n",
       "  </tbody>\n",
       "</table>\n",
       "</div>"
      ],
      "text/plain": [
       "        NAME ORIENTATION  LEFTROOM  RIGHTROOM  HEADROOM  NO. OF FACES\n",
       "0    (0).psd           H      2185       1709       142             2\n",
       "1   (01).psd           H      2055       1540       760             2\n",
       "2   (10).psd           H       171       2935       779            10\n",
       "3   (11).psd           H      1108        970       534             7\n",
       "4   (12).psd           H       238       1607       279            17\n",
       "5   (13).psd           H       627        604       399            25\n",
       "6   (14).psd           H       414        723       363            30\n",
       "7   (15).psd           H       628        673       434            49\n",
       "8    (2).psd           H       498        806       306             8\n",
       "9    (3).psd           H       437        941       319            14\n",
       "10   (4).psd           H       951       2532       321             6\n",
       "11   (5).psd           H       759        412       268            21\n",
       "12   (6).psd           H      1031       3378       280            10\n",
       "13   (7).psd           H       878        903       335             6\n",
       "14   (8).psd           H       885        589       268            10\n",
       "15   (9).psd           H      1549        998       402            10"
      ]
     },
     "execution_count": 17,
     "metadata": {},
     "output_type": "execute_result"
    }
   ],
   "source": [
    "df"
   ]
  },
  {
   "cell_type": "code",
   "execution_count": 18,
   "metadata": {},
   "outputs": [],
   "source": [
    "df.to_csv(\"OUTPUT.csv\")"
   ]
  }
 ],
 "metadata": {
  "kernelspec": {
   "display_name": ".venv",
   "language": "python",
   "name": "python3"
  },
  "language_info": {
   "codemirror_mode": {
    "name": "ipython",
    "version": 3
   },
   "file_extension": ".py",
   "mimetype": "text/x-python",
   "name": "python",
   "nbconvert_exporter": "python",
   "pygments_lexer": "ipython3",
   "version": "3.9.0 (tags/v3.9.0:9cf6752, Oct  5 2020, 15:34:40) [MSC v.1927 64 bit (AMD64)]"
  },
  "orig_nbformat": 4,
  "vscode": {
   "interpreter": {
    "hash": "9ff8c039cde8d16c8fd5d5cb64d0fbfa4f9dd84e7e00f8008380a6e4a2d4622e"
   }
  }
 },
 "nbformat": 4,
 "nbformat_minor": 2
}
